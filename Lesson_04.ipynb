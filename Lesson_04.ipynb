{
  "nbformat": 4,
  "nbformat_minor": 0,
  "metadata": {
    "colab": {
      "provenance": []
    },
    "kernelspec": {
      "name": "python3",
      "display_name": "Python 3"
    },
    "language_info": {
      "name": "python"
    }
  },
  "cells": [
    {
      "cell_type": "markdown",
      "source": [
        "HW 3:\n",
        "\n",
        "- [ ] выложить все тетрадки в гитхаб\n",
        "> есть только аккаунт\n",
        "- [ ] выложить задачки Яндекса в гитхаб\n",
        "- [ ] создать тетрадку для 4 занятия с результатами ДЗ3\n",
        "добавить свои вопросы"
      ],
      "metadata": {
        "id": "Mc9LOA0fly8B"
      }
    },
    {
      "cell_type": "markdown",
      "source": [
        "Вопросы:\n",
        "```\n",
        ">>> numbers = [2, 1, 3, 4, 7]\n",
        ">>> more_numbers = [*numbers, 11, 18]\n",
        ">>> print(*more_numbers, sep=', ')\n",
        "2, 1, 3, 4, 7, 11, 18\n",
        "```"
      ],
      "metadata": {
        "id": "1qTXvWEptwOM"
      }
    },
    {
      "cell_type": "code",
      "source": [
        "numbers = [2, 1, 3, 4, 7]\n",
        "more_numbers = [*numbers, 11, 18]\n",
        "print(*more_numbers, sep=', ')\n",
        "#2, 1, 3, 4, 7, 11, 18"
      ],
      "metadata": {
        "colab": {
          "base_uri": "https://localhost:8080/"
        },
        "id": "KCGvDTSQt2CN",
        "outputId": "6a43fd95-1004-4be5-b747-f6ca18febf5d"
      },
      "execution_count": null,
      "outputs": [
        {
          "output_type": "stream",
          "name": "stdout",
          "text": [
            "2, 1, 3, 4, 7, 11, 18\n"
          ]
        }
      ]
    },
    {
      "cell_type": "code",
      "source": [
        "numbers + [11, 18]"
      ],
      "metadata": {
        "colab": {
          "base_uri": "https://localhost:8080/"
        },
        "id": "z5w5eB0GuLjC",
        "outputId": "1cc0e699-ae84-4cba-85d7-c47b762d7342"
      },
      "execution_count": null,
      "outputs": [
        {
          "output_type": "execute_result",
          "data": {
            "text/plain": [
              "[2, 1, 3, 4, 7, 11, 18]"
            ]
          },
          "metadata": {},
          "execution_count": 4
        }
      ]
    },
    {
      "cell_type": "code",
      "source": [
        "a, b, c, *_ = numbers"
      ],
      "metadata": {
        "id": "bXks_OnWulfA"
      },
      "execution_count": null,
      "outputs": []
    },
    {
      "cell_type": "code",
      "source": [
        "type(_)"
      ],
      "metadata": {
        "colab": {
          "base_uri": "https://localhost:8080/"
        },
        "id": "DECssG1_vWwK",
        "outputId": "2d3d6ff3-a539-4671-b5e4-22732f5461ff"
      },
      "execution_count": null,
      "outputs": [
        {
          "output_type": "execute_result",
          "data": {
            "text/plain": [
              "list"
            ]
          },
          "metadata": {},
          "execution_count": 16
        }
      ]
    },
    {
      "cell_type": "code",
      "source": [
        "t = tuple([1, 2, 3])\n",
        "print(*t, t)"
      ],
      "metadata": {
        "colab": {
          "base_uri": "https://localhost:8080/"
        },
        "id": "bNCtUAs5vsqT",
        "outputId": "bfa666ec-a503-44b3-c5e1-a3100df2812a"
      },
      "execution_count": null,
      "outputs": [
        {
          "output_type": "stream",
          "name": "stdout",
          "text": [
            "1 2 3 (1, 2, 3)\n"
          ]
        }
      ]
    },
    {
      "cell_type": "code",
      "source": [
        "d = dict(a=1, b=2)\n",
        "d2 = dict(**d, c=3)"
      ],
      "metadata": {
        "id": "bHhpyq72wGpB"
      },
      "execution_count": null,
      "outputs": []
    },
    {
      "cell_type": "code",
      "source": [
        "d2"
      ],
      "metadata": {
        "colab": {
          "base_uri": "https://localhost:8080/"
        },
        "id": "ZefyoFQLwZvY",
        "outputId": "f5e2c7e8-d067-4edc-a88b-e288e88dc0c0"
      },
      "execution_count": null,
      "outputs": [
        {
          "output_type": "execute_result",
          "data": {
            "text/plain": [
              "{'a': 1, 'b': 2, 'c': 3}"
            ]
          },
          "metadata": {},
          "execution_count": 32
        }
      ]
    },
    {
      "cell_type": "code",
      "source": [
        "d2['c'], d2.get('c'), d2.get('d', 0), d2.__getitem__('a')"
      ],
      "metadata": {
        "colab": {
          "base_uri": "https://localhost:8080/"
        },
        "id": "jOtdmb9nwuyU",
        "outputId": "5e8b1345-5453-4e47-c4a0-aa09ce49b48c"
      },
      "execution_count": null,
      "outputs": [
        {
          "output_type": "execute_result",
          "data": {
            "text/plain": [
              "(3, 3, 0, 1)"
            ]
          },
          "metadata": {},
          "execution_count": 40
        }
      ]
    },
    {
      "cell_type": "code",
      "source": [
        "[a, b, c,  11, 18]"
      ],
      "metadata": {
        "colab": {
          "base_uri": "https://localhost:8080/"
        },
        "id": "53TexapTuvKU",
        "outputId": "ba0d3349-6ef9-47ab-8d4e-131c04856c0b"
      },
      "execution_count": null,
      "outputs": [
        {
          "output_type": "execute_result",
          "data": {
            "text/plain": [
              "[2, 1, 3, 11, 18]"
            ]
          },
          "metadata": {},
          "execution_count": 17
        }
      ]
    },
    {
      "cell_type": "code",
      "source": [
        "print(more_numbers, sep=', ')"
      ],
      "metadata": {
        "colab": {
          "base_uri": "https://localhost:8080/"
        },
        "id": "sENkiy3avHDF",
        "outputId": "17935fc5-a324-4e54-c01d-c75f196e8115"
      },
      "execution_count": null,
      "outputs": [
        {
          "output_type": "stream",
          "name": "stdout",
          "text": [
            "[2, 1, 3, 4, 7, 11, 18]\n"
          ]
        }
      ]
    },
    {
      "cell_type": "markdown",
      "source": [
        "Текущий статус:\n",
        "\n",
        "Книга дочитана до 3.4\n"
      ],
      "metadata": {
        "id": "pWmoazZPrA3s"
      }
    },
    {
      "cell_type": "markdown",
      "source": [
        "**HW 4**:\n",
        "- выложить тетрадки уроков на https://github.com/aksaan\n",
        "- дочитать до конца Яндекс хендбук и выложить задачи на гитхаб в отдельную папку\n",
        "- выписать свои вопросы\n",
        "- изучить matplotlib, построить график курса долара с 2007 года, за последний год, месяц\n",
        "- написать ДНД игру, проверить на python beautify\n"
      ],
      "metadata": {
        "id": "Adn-BdDPqYB6"
      }
    },
    {
      "cell_type": "markdown",
      "source": [
        "\n",
        "\n",
        "* m = str(n)[::-1] - что обозначает [::-1] ?\n",
        "*\n",
        "  s_sym_dif = s_1 ^ s_2\n",
        "\n",
        "  ^ - что обозначает и для чего используется?\n",
        "\n",
        "*   countries[country] = countries.get(country, []) + [str_number]\n",
        "\n",
        "    как работает метод get()?\n",
        "\n",
        "*    x = 1\n",
        "\n",
        "    y = x\n",
        "\n",
        "    print(id(x))\n",
        "\n",
        "    print(id(y))\n",
        "\n",
        "    print(x is y)\n",
        "\n",
        "    оператор is() проверяет только принадлежность и равенство по id?\n",
        "\n",
        "    если мы запишем 'y' как 1, то при is() мы получим false?"
      ],
      "metadata": {
        "id": "63byPjr9_Eza"
      }
    }
  ]
}